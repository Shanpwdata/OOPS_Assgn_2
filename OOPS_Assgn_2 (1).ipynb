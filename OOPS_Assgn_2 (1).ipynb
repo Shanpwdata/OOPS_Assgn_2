{
 "cells": [
  {
   "cell_type": "markdown",
   "id": "d374415f-89dd-4db4-8879-0aebbb57007b",
   "metadata": {},
   "source": [
    "Q1. What is Abstraction in OOps? Explain with an example."
   ]
  },
  {
   "cell_type": "markdown",
   "id": "3e73cf53-aca1-47f4-89b2-7db33d7b9528",
   "metadata": {},
   "source": [
    "#Ans_1.\n",
    "Abstraction class is used generate outline or blueprint of class."
   ]
  },
  {
   "cell_type": "code",
   "execution_count": 1,
   "id": "c4c34923-8e55-489d-bfda-18120fed5411",
   "metadata": {},
   "outputs": [],
   "source": [
    "#Ex.\n",
    "import abc\n",
    "class pwskills:\n",
    "    @abc.abstractmethod\n",
    "    def students_details(self):\n",
    "        pass\n",
    "    \n",
    "    @abc.abstractmethod\n",
    "    def assignment_details(self):\n",
    "        pass\n",
    "    \n",
    "    @abc.abstractmethod\n",
    "    def students_marks(self):\n",
    "        pass"
   ]
  },
  {
   "cell_type": "code",
   "execution_count": 2,
   "id": "fc0ec2ba-21fd-44b9-a1c2-b13ff90faaa1",
   "metadata": {},
   "outputs": [],
   "source": [
    "class web_dev(pwskills):\n",
    "    def students_details(self):\n",
    "        return \"There a students in web dev\"\n",
    "    def assignment_details(self):\n",
    "        return \"assignment of web dev students\"\n",
    "    def students_marks(self):\n",
    "        return \"this is marks of web dev students\""
   ]
  },
  {
   "cell_type": "code",
   "execution_count": 3,
   "id": "92725758-ead8-4982-810d-4ab9a05653d6",
   "metadata": {},
   "outputs": [],
   "source": [
    "class data_science(pwskills):\n",
    "    def students_details(self):\n",
    "        return \"There a students in data science\"\n",
    "    def assignment_details(self):\n",
    "        return \"assignment of data science students\"\n",
    "    def students_marks(self):\n",
    "        return \"this is marks of data science students\""
   ]
  },
  {
   "cell_type": "code",
   "execution_count": 4,
   "id": "21dfd6b2-577d-4310-bb66-8839d4fa4a97",
   "metadata": {},
   "outputs": [],
   "source": [
    "ds = data_science()\n",
    "wd = web_dev()"
   ]
  },
  {
   "cell_type": "code",
   "execution_count": 5,
   "id": "7af6bc85-911e-4bd4-b5db-e3ebd5cb0ad8",
   "metadata": {},
   "outputs": [
    {
     "data": {
      "text/plain": [
       "'this is marks of data science students'"
      ]
     },
     "execution_count": 5,
     "metadata": {},
     "output_type": "execute_result"
    }
   ],
   "source": [
    "ds.students_marks()"
   ]
  },
  {
   "cell_type": "code",
   "execution_count": 6,
   "id": "3d70538b-2f80-4ffe-a380-7453ff8524d3",
   "metadata": {},
   "outputs": [
    {
     "data": {
      "text/plain": [
       "'There a students in web dev'"
      ]
     },
     "execution_count": 6,
     "metadata": {},
     "output_type": "execute_result"
    }
   ],
   "source": [
    "wd.students_details()"
   ]
  },
  {
   "cell_type": "markdown",
   "id": "bf9e2f4f-74e9-4f25-8b92-6cc5bb1bb487",
   "metadata": {},
   "source": [
    "Q2. Differentiate between Abstraction and Encapsulation. Explain with an example."
   ]
  },
  {
   "cell_type": "markdown",
   "id": "077a4b7d-0231-44b4-bdde-cb2e8e5f87df",
   "metadata": {},
   "source": [
    "#Ans_2.\n",
    "Abstraction is a way of representing some specific data. Encapsulation is a way of hiding the complexity of something and exposing only the parts you wish to expose"
   ]
  },
  {
   "cell_type": "code",
   "execution_count": 7,
   "id": "6053025c-e7d7-4f90-b649-f59bc726e809",
   "metadata": {},
   "outputs": [],
   "source": [
    "###Example of Encapsulation:-\n",
    "class Electronics_device :\n",
    "    def __init__(self, manuf_year,company_name,Internet_speed_test):\n",
    "        self.__manuf_year = manuf_year\n",
    "        self.__company_name = company_name\n",
    "        self.__Internet_speed_test = 0\n",
    "\n",
    "    def set_speed(self, speed):\n",
    "        self.__Internet_speed_test = 0 if speed <0 else speed\n",
    "     \n",
    "    def get_speed (self):\n",
    "        return self.__Internet_speed_test"
   ]
  },
  {
   "cell_type": "code",
   "execution_count": 8,
   "id": "4b0eabff-f430-4ada-9118-1c3644642d92",
   "metadata": {},
   "outputs": [],
   "source": [
    "mobile = Electronics_device(2022, \"Realme\", 100)"
   ]
  },
  {
   "cell_type": "code",
   "execution_count": 10,
   "id": "c5dddc6d-50d3-48e9-9861-d1a4177aaeda",
   "metadata": {},
   "outputs": [],
   "source": [
    "mobile.set_speed(120)"
   ]
  },
  {
   "cell_type": "code",
   "execution_count": 11,
   "id": "25a97b06-8c5c-4f43-bfa3-a3e6376ae498",
   "metadata": {},
   "outputs": [
    {
     "data": {
      "text/plain": [
       "120"
      ]
     },
     "execution_count": 11,
     "metadata": {},
     "output_type": "execute_result"
    }
   ],
   "source": [
    "mobile.get_speed()"
   ]
  },
  {
   "cell_type": "code",
   "execution_count": 12,
   "id": "15efcc27-7a0c-4e1f-82e5-e34c1f8ea6e2",
   "metadata": {},
   "outputs": [],
   "source": [
    "###Example of Abstraction:-\n",
    "import abc\n",
    "class pwskills:\n",
    "    @abc.abstractmethod\n",
    "    def students_details(self):\n",
    "        pass\n",
    "    \n",
    "    @abc.abstractmethod\n",
    "    def assignment_details(self):\n",
    "        pass\n",
    "    \n",
    "    @abc.abstractmethod\n",
    "    def students_marks(self):\n",
    "        pass"
   ]
  },
  {
   "cell_type": "code",
   "execution_count": 13,
   "id": "e7771830-b22d-4c90-a24f-fbf650602d1b",
   "metadata": {},
   "outputs": [],
   "source": [
    "class web_dev(pwskills):\n",
    "    def students_details(self):\n",
    "        return \"There a students in web dev\"\n",
    "    def assignment_details(self):\n",
    "        return \"assignment of web dev students\"\n",
    "    def students_marks(self):\n",
    "        return \"this is marks of web dev students\""
   ]
  },
  {
   "cell_type": "code",
   "execution_count": 14,
   "id": "ba216830-9b9e-4dd7-9f94-b9864fcc13ea",
   "metadata": {},
   "outputs": [],
   "source": [
    "wd = web_dev()"
   ]
  },
  {
   "cell_type": "code",
   "execution_count": 16,
   "id": "fcd7a70d-64fb-4ca0-8114-62b2ceec3de9",
   "metadata": {},
   "outputs": [
    {
     "data": {
      "text/plain": [
       "'There a students in web dev'"
      ]
     },
     "execution_count": 16,
     "metadata": {},
     "output_type": "execute_result"
    }
   ],
   "source": [
    "wd.students_details()"
   ]
  },
  {
   "cell_type": "markdown",
   "id": "573586ec-ab07-4604-b64c-bdeffd654f04",
   "metadata": {},
   "source": [
    "Q3. What is abc module in python? Why is it used?"
   ]
  },
  {
   "cell_type": "markdown",
   "id": "9451e4e0-cc5b-4081-a3cb-be70f88f3fba",
   "metadata": {},
   "source": [
    "#Ans_3.\n",
    "The abc module in Python stands for \"Abstract Base Classes.\" It provides a way to define abstract base classes in Python and enforce certain rules or contracts for derived classes. Abstract base classes serve as a blueprint for other classes and cannot be instantiated directly. it is used to provides a powerful mechanism for defining abstract base classes and enforcing contracts in python, facilitating code design, reusability, and maintainability."
   ]
  },
  {
   "cell_type": "code",
   "execution_count": 17,
   "id": "828ad46f-89d0-4e8f-a4c8-7e6353f9c8f8",
   "metadata": {},
   "outputs": [],
   "source": [
    "###Example of Abstraction:-\n",
    "import abc\n",
    "class pwskills:\n",
    "    @abc.abstractmethod\n",
    "    def students_details(self):\n",
    "        pass\n",
    "    \n",
    "    @abc.abstractmethod\n",
    "    def assignment_details(self):\n",
    "        pass\n",
    "    \n",
    "    @abc.abstractmethod\n",
    "    def students_marks(self):\n",
    "        pass"
   ]
  },
  {
   "cell_type": "code",
   "execution_count": 18,
   "id": "7419ee59-63b4-441e-b2b0-66218be99a3b",
   "metadata": {},
   "outputs": [],
   "source": [
    "class web_dev(pwskills):\n",
    "    def students_details(self):\n",
    "        return \"There a students in web dev\"\n",
    "    def assignment_details(self):\n",
    "        return \"assignment of web dev students\"\n",
    "    def students_marks(self):\n",
    "        return \"this is marks of web dev students\""
   ]
  },
  {
   "cell_type": "code",
   "execution_count": 19,
   "id": "a1724dde-da58-4d43-9496-880ddcbe6140",
   "metadata": {},
   "outputs": [],
   "source": [
    "wd = web_dev()"
   ]
  },
  {
   "cell_type": "code",
   "execution_count": 20,
   "id": "d2fe1b49-b2b4-458b-a4f0-553d2c9ef942",
   "metadata": {},
   "outputs": [
    {
     "data": {
      "text/plain": [
       "'this is marks of web dev students'"
      ]
     },
     "execution_count": 20,
     "metadata": {},
     "output_type": "execute_result"
    }
   ],
   "source": [
    "wd.students_marks()"
   ]
  },
  {
   "cell_type": "markdown",
   "id": "d3b0f3bd-ffb5-446d-8655-286f8f76d1a1",
   "metadata": {},
   "source": [
    "Q4. How can we achieve data abstraction?"
   ]
  },
  {
   "cell_type": "markdown",
   "id": "a3b93a11-2581-44f4-b90b-b68c48c32e3c",
   "metadata": {},
   "source": [
    "#Ans_4.\n",
    "Data abstraction in object-oriented programming can be achieved through the use of classes and objects, along with access modifiers and getter/setter methods."
   ]
  },
  {
   "cell_type": "code",
   "execution_count": 25,
   "id": "c985837d-bd05-404c-a6b9-6b752f3a6987",
   "metadata": {},
   "outputs": [],
   "source": [
    "###Example:-\n",
    "class bank_account:\n",
    "    def __init__(self, account_number, balance):\n",
    "        self._account_number = account_number\n",
    "        self._balance = balance\n",
    "\n",
    "    def get_account_number(self):\n",
    "        return self._account_number\n",
    "\n",
    "    def get_balance(self):\n",
    "        return self._balance\n",
    "\n",
    "    def deposit(self, amount):\n",
    "        self._balance += amount\n",
    "\n",
    "    def withdraw(self, amount):\n",
    "        if self._balance >= amount:\n",
    "            self._balance -= amount\n",
    "        else:\n",
    "            print(\"Insufficient balance.\")"
   ]
  },
  {
   "cell_type": "code",
   "execution_count": 26,
   "id": "20845cac-d5ed-4957-ba06-b5790786e2c6",
   "metadata": {},
   "outputs": [],
   "source": [
    "ba = bank_account(124532365, 25000)"
   ]
  },
  {
   "cell_type": "code",
   "execution_count": 27,
   "id": "85c333f7-0b5e-44de-a665-0b74b4d11fd3",
   "metadata": {},
   "outputs": [
    {
     "data": {
      "text/plain": [
       "25000"
      ]
     },
     "execution_count": 27,
     "metadata": {},
     "output_type": "execute_result"
    }
   ],
   "source": [
    "ba.get_balance()"
   ]
  },
  {
   "cell_type": "markdown",
   "id": "3981a14a-f837-4a3d-8591-cbaec8223ea2",
   "metadata": {},
   "source": [
    "Q5. Can we create an instance of an abstract class? Explain your answer."
   ]
  },
  {
   "cell_type": "markdown",
   "id": "fef9f833-1893-4a01-ac3e-912d802271ae",
   "metadata": {},
   "source": [
    "#Ans_5.\n",
    "No, we cannot create an instance of an abstract class in Python. Abstract classes are meant to serve as blueprints for other classes and cannot be instantiated directly. An abstract class is a class that contains one or more abstract methods, which are methods without an implementation."
   ]
  },
  {
   "cell_type": "code",
   "execution_count": null,
   "id": "73a4e179-9511-423a-a17a-bbf2fccf7b3c",
   "metadata": {},
   "outputs": [],
   "source": []
  }
 ],
 "metadata": {
  "kernelspec": {
   "display_name": "Python 3 (ipykernel)",
   "language": "python",
   "name": "python3"
  },
  "language_info": {
   "codemirror_mode": {
    "name": "ipython",
    "version": 3
   },
   "file_extension": ".py",
   "mimetype": "text/x-python",
   "name": "python",
   "nbconvert_exporter": "python",
   "pygments_lexer": "ipython3",
   "version": "3.10.8"
  }
 },
 "nbformat": 4,
 "nbformat_minor": 5
}
